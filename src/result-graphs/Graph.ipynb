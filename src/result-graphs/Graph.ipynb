{
 "cells": [
  {
   "cell_type": "code",
   "execution_count": null,
   "metadata": {},
   "outputs": [],
   "source": [
    "# Re-import required libraries after environment reset\n",
    "import pandas as pd\n",
    "import matplotlib.pyplot as plt"
   ]
  },
  {
   "cell_type": "code",
   "execution_count": null,
   "metadata": {},
   "outputs": [],
   "source": [
    "# Re-load the CSV file\n",
    "csv_path = \"/mnt/data/taguchi_gen_A-n32-k5.csv\"\n",
    "df = pd.read_csv(csv_path)"
   ]
  },
  {
   "cell_type": "code",
   "execution_count": null,
   "metadata": {},
   "outputs": [],
   "source": [
    "# Group by Generations and compute average 'Best' fitness\n",
    "grouped = df.groupby(\"Generations\")[\"Best\"].mean().reset_index()"
   ]
  },
  {
   "cell_type": "code",
   "execution_count": null,
   "metadata": {},
   "outputs": [],
   "source": [
    "# Plot\n",
    "plt.figure(figsize=(10, 6))\n",
    "plt.plot(grouped[\"Generations\"], grouped[\"Best\"], marker='o', linestyle='-')\n",
    "plt.title(\"Best Fitness vs Generations (Taguchi - A-n32-k5)\")\n",
    "plt.xlabel(\"Generations\")\n",
    "plt.ylabel(\"Best Fitness (Lower is Better)\")\n",
    "plt.grid(True)\n",
    "plt.tight_layout()"
   ]
  },
  {
   "cell_type": "code",
   "execution_count": null,
   "metadata": {},
   "outputs": [],
   "source": [
    "# Save plot\n",
    "output_path = \"/mnt/data/taguchi_fitness_vs_generations.png\"\n",
    "plt.savefig(output_path)\n",
    "output_path"
   ]
  }
 ],
 "metadata": {
  "kernelspec": {
   "display_name": "Python 3",
   "language": "python",
   "name": "python3"
  },
  "language_info": {
   "name": "python",
   "version": "3.12.2"
  }
 },
 "nbformat": 4,
 "nbformat_minor": 2
}
