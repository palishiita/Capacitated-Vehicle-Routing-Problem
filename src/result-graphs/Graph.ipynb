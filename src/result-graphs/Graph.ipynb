{
 "cells": [
  {
   "cell_type": "markdown",
   "id": "645630fb",
   "metadata": {},
   "source": [
    "# Best Fitness vs Generation Plotter\n",
    "This notebook loads all CSVs from the 'taguchi' results folder and plots Best Fitness vs Generation as scatter plots."
   ]
  },
  {
   "cell_type": "code",
   "execution_count": 1,
   "id": "0d452761",
   "metadata": {},
   "outputs": [],
   "source": [
    "import os\n",
    "import pandas as pd\n",
    "import matplotlib.pyplot as plt\n",
    "import re"
   ]
  },
  {
   "cell_type": "code",
   "execution_count": 2,
   "id": "423eef05",
   "metadata": {},
   "outputs": [],
   "source": [
    "# Paths\n",
    "csv_folder = r'C:\\Users\\ishii\\Desktop\\Capacitated-Vehicle-Routing-Problem\\src\\results\\taguchi'\n",
    "save_path = r'C:\\Users\\ishii\\Desktop\\Capacitated-Vehicle-Routing-Problem\\src\\result-graphs'\n",
    "\n",
    "# Create the directory if it doesn't exist\n",
    "os.makedirs(save_path, exist_ok=True)"
   ]
  },
  {
   "cell_type": "code",
   "execution_count": 3,
   "id": "166ccb99",
   "metadata": {},
   "outputs": [
    {
     "name": "stdout",
     "output_type": "stream",
     "text": [
      "All scatter plots saved to: C:\\Users\\ishii\\Desktop\\Capacitated-Vehicle-Routing-Problem\\src\\result-graphs\n"
     ]
    }
   ],
   "source": [
    "# Loop through each CSV file and plot\n",
    "for filename in os.listdir(csv_folder):\n",
    "    if filename.endswith('.csv'):\n",
    "        file_path = os.path.join(csv_folder, filename)\n",
    "        df = pd.read_csv(file_path)\n",
    "\n",
    "        # Extract generation number from Config\n",
    "        df['Generation'] = df['Config'].apply(lambda x: int(re.search(r'gen:(\\d+)', x).group(1)))\n",
    "\n",
    "        # Sort by generation\n",
    "        df_sorted = df.sort_values(by='Generation')\n",
    "\n",
    "        # Plot without lines (scatter only)\n",
    "        plt.figure(figsize=(10, 6))\n",
    "        plt.scatter(df_sorted['Generation'], df_sorted['Best'], alpha=0.8)\n",
    "        plt.xlabel('Generation')\n",
    "        plt.ylabel('Best Fitness')\n",
    "        plt.title(f'Best Fitness vs Generation ({filename})')\n",
    "        plt.grid(True)\n",
    "\n",
    "        # Save the plot\n",
    "        base_filename = os.path.splitext(filename)[0]\n",
    "        plt.savefig(os.path.join(save_path, f'{base_filename}_fitness_plot.png'))\n",
    "        plt.close()\n",
    "\n",
    "print(\"All scatter plots saved to:\", save_path)"
   ]
  }
 ],
 "metadata": {
  "kernelspec": {
   "display_name": "Python 3",
   "language": "python",
   "name": "python3"
  },
  "language_info": {
   "codemirror_mode": {
    "name": "ipython",
    "version": 3
   },
   "file_extension": ".py",
   "mimetype": "text/x-python",
   "name": "python",
   "nbconvert_exporter": "python",
   "pygments_lexer": "ipython3",
   "version": "3.12.2"
  }
 },
 "nbformat": 4,
 "nbformat_minor": 5
}
