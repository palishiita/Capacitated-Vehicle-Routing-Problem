{
 "cells": [
  {
   "cell_type": "code",
   "execution_count": 1,
   "id": "a934ac3c",
   "metadata": {},
   "outputs": [],
   "source": [
    "import os\n",
    "import pandas as pd\n",
    "import matplotlib.pyplot as plt\n",
    "from collections import defaultdict"
   ]
  },
  {
   "cell_type": "code",
   "execution_count": 2,
   "id": "50b74f9d",
   "metadata": {},
   "outputs": [],
   "source": [
    "# Folder with your GA logs\n",
    "log_folder = r'C:\\Users\\ishii\\Desktop\\Capacitated-Vehicle-Routing-Problem\\src\\results\\ga_fitness_logs'\n",
    "output_folder = r'C:\\Users\\ishii\\Desktop\\Capacitated-Vehicle-Routing-Problem\\src\\analysis'\n",
    "os.makedirs(output_folder, exist_ok=True)"
   ]
  },
  {
   "cell_type": "code",
   "execution_count": 3,
   "id": "f7a8f15c",
   "metadata": {},
   "outputs": [],
   "source": [
    "# Helper: Extract base config from filename (remove RunN)\n",
    "def config_key(filename):\n",
    "    return \"_\".join(filename.split(\"_\")[:-1])"
   ]
  },
  {
   "cell_type": "code",
   "execution_count": 4,
   "id": "ca13ab63",
   "metadata": {},
   "outputs": [
    {
     "name": "stdout",
     "output_type": "stream",
     "text": [
      "Found 48 unique configs\n"
     ]
    }
   ],
   "source": [
    "# Group all CSV files by config\n",
    "files = [f for f in os.listdir(log_folder) if f.endswith(\".csv\")]\n",
    "groups = defaultdict(list)\n",
    "for f in files:\n",
    "    key = config_key(f)\n",
    "    groups[key].append(f)\n",
    "\n",
    "print(f\"Found {len(groups)} unique configs\")"
   ]
  },
  {
   "cell_type": "code",
   "execution_count": 5,
   "id": "08ca951d",
   "metadata": {},
   "outputs": [
    {
     "name": "stdout",
     "output_type": "stream",
     "text": [
      "Saved plot: C:\\Users\\ishii\\Desktop\\Capacitated-Vehicle-Routing-Problem\\src\\analysis\\OX_1000gen_1000pop_EC1.png\n",
      "Saved plot: C:\\Users\\ishii\\Desktop\\Capacitated-Vehicle-Routing-Problem\\src\\analysis\\OX_1000gen_1000pop_EC3.png\n",
      "Saved plot: C:\\Users\\ishii\\Desktop\\Capacitated-Vehicle-Routing-Problem\\src\\analysis\\OX_1000gen_1000pop_EC5.png\n",
      "Saved plot: C:\\Users\\ishii\\Desktop\\Capacitated-Vehicle-Routing-Problem\\src\\analysis\\OX_1000gen_100pop_EC1.png\n",
      "Saved plot: C:\\Users\\ishii\\Desktop\\Capacitated-Vehicle-Routing-Problem\\src\\analysis\\OX_1000gen_100pop_EC3.png\n",
      "Saved plot: C:\\Users\\ishii\\Desktop\\Capacitated-Vehicle-Routing-Problem\\src\\analysis\\OX_1000gen_100pop_EC5.png\n",
      "Saved plot: C:\\Users\\ishii\\Desktop\\Capacitated-Vehicle-Routing-Problem\\src\\analysis\\OX_1000gen_400pop_EC1.png\n",
      "Saved plot: C:\\Users\\ishii\\Desktop\\Capacitated-Vehicle-Routing-Problem\\src\\analysis\\OX_1000gen_400pop_EC3.png\n",
      "Saved plot: C:\\Users\\ishii\\Desktop\\Capacitated-Vehicle-Routing-Problem\\src\\analysis\\OX_1000gen_400pop_EC5.png\n",
      "Saved plot: C:\\Users\\ishii\\Desktop\\Capacitated-Vehicle-Routing-Problem\\src\\analysis\\OX_1000gen_800pop_EC1.png\n",
      "Saved plot: C:\\Users\\ishii\\Desktop\\Capacitated-Vehicle-Routing-Problem\\src\\analysis\\OX_1000gen_800pop_EC3.png\n",
      "Saved plot: C:\\Users\\ishii\\Desktop\\Capacitated-Vehicle-Routing-Problem\\src\\analysis\\OX_1000gen_800pop_EC5.png\n",
      "Saved plot: C:\\Users\\ishii\\Desktop\\Capacitated-Vehicle-Routing-Problem\\src\\analysis\\OX_200gen_1000pop_EC1.png\n",
      "Saved plot: C:\\Users\\ishii\\Desktop\\Capacitated-Vehicle-Routing-Problem\\src\\analysis\\OX_200gen_1000pop_EC3.png\n",
      "Saved plot: C:\\Users\\ishii\\Desktop\\Capacitated-Vehicle-Routing-Problem\\src\\analysis\\OX_200gen_1000pop_EC5.png\n",
      "Saved plot: C:\\Users\\ishii\\Desktop\\Capacitated-Vehicle-Routing-Problem\\src\\analysis\\OX_200gen_100pop_EC1.png\n",
      "Saved plot: C:\\Users\\ishii\\Desktop\\Capacitated-Vehicle-Routing-Problem\\src\\analysis\\OX_200gen_100pop_EC3.png\n",
      "Saved plot: C:\\Users\\ishii\\Desktop\\Capacitated-Vehicle-Routing-Problem\\src\\analysis\\OX_200gen_100pop_EC5.png\n",
      "Saved plot: C:\\Users\\ishii\\Desktop\\Capacitated-Vehicle-Routing-Problem\\src\\analysis\\OX_200gen_400pop_EC1.png\n",
      "Saved plot: C:\\Users\\ishii\\Desktop\\Capacitated-Vehicle-Routing-Problem\\src\\analysis\\OX_200gen_400pop_EC3.png\n",
      "Saved plot: C:\\Users\\ishii\\Desktop\\Capacitated-Vehicle-Routing-Problem\\src\\analysis\\OX_200gen_400pop_EC5.png\n",
      "Saved plot: C:\\Users\\ishii\\Desktop\\Capacitated-Vehicle-Routing-Problem\\src\\analysis\\OX_200gen_800pop_EC1.png\n",
      "Saved plot: C:\\Users\\ishii\\Desktop\\Capacitated-Vehicle-Routing-Problem\\src\\analysis\\OX_200gen_800pop_EC3.png\n",
      "Saved plot: C:\\Users\\ishii\\Desktop\\Capacitated-Vehicle-Routing-Problem\\src\\analysis\\OX_200gen_800pop_EC5.png\n",
      "Saved plot: C:\\Users\\ishii\\Desktop\\Capacitated-Vehicle-Routing-Problem\\src\\analysis\\OX_400gen_1000pop_EC1.png\n",
      "Saved plot: C:\\Users\\ishii\\Desktop\\Capacitated-Vehicle-Routing-Problem\\src\\analysis\\OX_400gen_1000pop_EC3.png\n",
      "Saved plot: C:\\Users\\ishii\\Desktop\\Capacitated-Vehicle-Routing-Problem\\src\\analysis\\OX_400gen_1000pop_EC5.png\n",
      "Saved plot: C:\\Users\\ishii\\Desktop\\Capacitated-Vehicle-Routing-Problem\\src\\analysis\\OX_400gen_100pop_EC1.png\n",
      "Saved plot: C:\\Users\\ishii\\Desktop\\Capacitated-Vehicle-Routing-Problem\\src\\analysis\\OX_400gen_100pop_EC3.png\n",
      "Saved plot: C:\\Users\\ishii\\Desktop\\Capacitated-Vehicle-Routing-Problem\\src\\analysis\\OX_400gen_100pop_EC5.png\n",
      "Saved plot: C:\\Users\\ishii\\Desktop\\Capacitated-Vehicle-Routing-Problem\\src\\analysis\\OX_400gen_400pop_EC1.png\n",
      "Saved plot: C:\\Users\\ishii\\Desktop\\Capacitated-Vehicle-Routing-Problem\\src\\analysis\\OX_400gen_400pop_EC3.png\n",
      "Saved plot: C:\\Users\\ishii\\Desktop\\Capacitated-Vehicle-Routing-Problem\\src\\analysis\\OX_400gen_400pop_EC5.png\n",
      "Saved plot: C:\\Users\\ishii\\Desktop\\Capacitated-Vehicle-Routing-Problem\\src\\analysis\\OX_400gen_800pop_EC1.png\n",
      "Saved plot: C:\\Users\\ishii\\Desktop\\Capacitated-Vehicle-Routing-Problem\\src\\analysis\\OX_400gen_800pop_EC3.png\n",
      "Saved plot: C:\\Users\\ishii\\Desktop\\Capacitated-Vehicle-Routing-Problem\\src\\analysis\\OX_400gen_800pop_EC5.png\n",
      "Saved plot: C:\\Users\\ishii\\Desktop\\Capacitated-Vehicle-Routing-Problem\\src\\analysis\\OX_50gen_1000pop_EC1.png\n",
      "Saved plot: C:\\Users\\ishii\\Desktop\\Capacitated-Vehicle-Routing-Problem\\src\\analysis\\OX_50gen_1000pop_EC3.png\n",
      "Saved plot: C:\\Users\\ishii\\Desktop\\Capacitated-Vehicle-Routing-Problem\\src\\analysis\\OX_50gen_1000pop_EC5.png\n",
      "Saved plot: C:\\Users\\ishii\\Desktop\\Capacitated-Vehicle-Routing-Problem\\src\\analysis\\OX_50gen_100pop_EC1.png\n",
      "Saved plot: C:\\Users\\ishii\\Desktop\\Capacitated-Vehicle-Routing-Problem\\src\\analysis\\OX_50gen_100pop_EC3.png\n",
      "Saved plot: C:\\Users\\ishii\\Desktop\\Capacitated-Vehicle-Routing-Problem\\src\\analysis\\OX_50gen_100pop_EC5.png\n",
      "Saved plot: C:\\Users\\ishii\\Desktop\\Capacitated-Vehicle-Routing-Problem\\src\\analysis\\OX_50gen_400pop_EC1.png\n",
      "Saved plot: C:\\Users\\ishii\\Desktop\\Capacitated-Vehicle-Routing-Problem\\src\\analysis\\OX_50gen_400pop_EC3.png\n",
      "Saved plot: C:\\Users\\ishii\\Desktop\\Capacitated-Vehicle-Routing-Problem\\src\\analysis\\OX_50gen_400pop_EC5.png\n",
      "Saved plot: C:\\Users\\ishii\\Desktop\\Capacitated-Vehicle-Routing-Problem\\src\\analysis\\OX_50gen_800pop_EC1.png\n",
      "Saved plot: C:\\Users\\ishii\\Desktop\\Capacitated-Vehicle-Routing-Problem\\src\\analysis\\OX_50gen_800pop_EC3.png\n",
      "Saved plot: C:\\Users\\ishii\\Desktop\\Capacitated-Vehicle-Routing-Problem\\src\\analysis\\OX_50gen_800pop_EC5.png\n"
     ]
    }
   ],
   "source": [
    "# Process each config group\n",
    "for key, file_list in groups.items():\n",
    "    dfs = []\n",
    "    for f in file_list:\n",
    "        path = os.path.join(log_folder, f)\n",
    "        df = pd.read_csv(path)\n",
    "        dfs.append(df)\n",
    "\n",
    "    # Average across runs\n",
    "    all_df = pd.concat(dfs, axis=0, keys=range(len(dfs)))\n",
    "    mean = all_df.groupby(level=1).mean()\n",
    "    std = all_df.groupby(level=1).std()\n",
    "\n",
    "    # Plot\n",
    "    plt.figure(figsize=(10, 6))\n",
    "    plt.plot(mean['Best'], label='Best', linewidth=2)\n",
    "    plt.plot(mean['Average'], label='Average', linestyle='--')\n",
    "    plt.plot(mean['Worst'], label='Worst', linestyle=':')\n",
    "    plt.fill_between(mean.index, mean['Best'] - std['Best'], mean['Best'] + std['Best'], alpha=0.2)\n",
    "\n",
    "    plt.title(f\"Fitness Convergence: {key}\")\n",
    "    plt.xlabel(\"Generation\")\n",
    "    plt.ylabel(\"Fitness\")\n",
    "    plt.legend()\n",
    "    plt.grid(True)\n",
    "\n",
    "    plot_path = os.path.join(output_folder, f\"{key}.png\")\n",
    "    plt.savefig(plot_path)\n",
    "    plt.close()\n",
    "\n",
    "    print(f\"Saved plot: {plot_path}\")\n"
   ]
  }
 ],
 "metadata": {
  "kernelspec": {
   "display_name": "Python 3",
   "language": "python",
   "name": "python3"
  },
  "language_info": {
   "codemirror_mode": {
    "name": "ipython",
    "version": 3
   },
   "file_extension": ".py",
   "mimetype": "text/x-python",
   "name": "python",
   "nbconvert_exporter": "python",
   "pygments_lexer": "ipython3",
   "version": "3.12.2"
  }
 },
 "nbformat": 4,
 "nbformat_minor": 5
}
